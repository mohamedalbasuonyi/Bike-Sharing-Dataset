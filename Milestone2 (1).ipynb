{
 "cells": [
  {
   "cell_type": "markdown",
   "id": "ec778a77-d207-4271-a336-49a252512b73",
   "metadata": {},
   "source": [
    "# Milestone 2\n",
    "# Analyzing the Demand for Bike Sharing\n",
    "\n",
    "Bike-sharing systems are a means of renting bicycles where the process of obtaining membership, rental, and bike return is automated via a network of kiosk locations throughout a city. Using these systems, people are able rent a bike from a one location and return it to a different place on an as-needed basis. Currently, there are over 500 bike-sharing programs around the world.\n"
   ]
  },
  {
   "cell_type": "code",
   "execution_count": 1,
   "id": "2482a1a7-d3f3-4674-87c8-a737968db6e7",
   "metadata": {},
   "outputs": [],
   "source": [
    "import pandas as pd\n",
    "import matplotlib.pyplot as plt\n",
    "from sklearn.model_selection import train_test_split\n",
    "from sklearn.linear_model import LinearRegression\n",
    "from sklearn.tree import DecisionTreeRegressor\n",
    "from sklearn.neighbors import KNeighborsRegressor\n",
    "from sklearn.metrics import mean_squared_error, r2_score"
   ]
  },
  {
   "cell_type": "code",
   "execution_count": 2,
   "id": "accc860a-e0b9-4b41-a1cd-25dba8a74079",
   "metadata": {},
   "outputs": [
    {
     "data": {
      "text/html": [
       "<div>\n",
       "<style scoped>\n",
       "    .dataframe tbody tr th:only-of-type {\n",
       "        vertical-align: middle;\n",
       "    }\n",
       "\n",
       "    .dataframe tbody tr th {\n",
       "        vertical-align: top;\n",
       "    }\n",
       "\n",
       "    .dataframe thead th {\n",
       "        text-align: right;\n",
       "    }\n",
       "</style>\n",
       "<table border=\"1\" class=\"dataframe\">\n",
       "  <thead>\n",
       "    <tr style=\"text-align: right;\">\n",
       "      <th></th>\n",
       "      <th>instant</th>\n",
       "      <th>dteday</th>\n",
       "      <th>season</th>\n",
       "      <th>yr</th>\n",
       "      <th>mnth</th>\n",
       "      <th>holiday</th>\n",
       "      <th>weekday</th>\n",
       "      <th>workingday</th>\n",
       "      <th>weathersit</th>\n",
       "      <th>temp</th>\n",
       "      <th>atemp</th>\n",
       "      <th>hum</th>\n",
       "      <th>windspeed</th>\n",
       "      <th>casual</th>\n",
       "      <th>registered</th>\n",
       "      <th>cnt</th>\n",
       "    </tr>\n",
       "  </thead>\n",
       "  <tbody>\n",
       "    <tr>\n",
       "      <th>0</th>\n",
       "      <td>1</td>\n",
       "      <td>2011-01-01</td>\n",
       "      <td>1</td>\n",
       "      <td>0</td>\n",
       "      <td>1</td>\n",
       "      <td>0</td>\n",
       "      <td>6</td>\n",
       "      <td>0</td>\n",
       "      <td>2</td>\n",
       "      <td>0.344167</td>\n",
       "      <td>0.363625</td>\n",
       "      <td>0.805833</td>\n",
       "      <td>0.160446</td>\n",
       "      <td>331</td>\n",
       "      <td>654</td>\n",
       "      <td>985</td>\n",
       "    </tr>\n",
       "    <tr>\n",
       "      <th>1</th>\n",
       "      <td>2</td>\n",
       "      <td>2011-01-02</td>\n",
       "      <td>1</td>\n",
       "      <td>0</td>\n",
       "      <td>1</td>\n",
       "      <td>0</td>\n",
       "      <td>0</td>\n",
       "      <td>0</td>\n",
       "      <td>2</td>\n",
       "      <td>0.363478</td>\n",
       "      <td>0.353739</td>\n",
       "      <td>0.696087</td>\n",
       "      <td>0.248539</td>\n",
       "      <td>131</td>\n",
       "      <td>670</td>\n",
       "      <td>801</td>\n",
       "    </tr>\n",
       "    <tr>\n",
       "      <th>2</th>\n",
       "      <td>3</td>\n",
       "      <td>2011-01-03</td>\n",
       "      <td>1</td>\n",
       "      <td>0</td>\n",
       "      <td>1</td>\n",
       "      <td>0</td>\n",
       "      <td>1</td>\n",
       "      <td>1</td>\n",
       "      <td>1</td>\n",
       "      <td>0.196364</td>\n",
       "      <td>0.189405</td>\n",
       "      <td>0.437273</td>\n",
       "      <td>0.248309</td>\n",
       "      <td>120</td>\n",
       "      <td>1229</td>\n",
       "      <td>1349</td>\n",
       "    </tr>\n",
       "    <tr>\n",
       "      <th>3</th>\n",
       "      <td>4</td>\n",
       "      <td>2011-01-04</td>\n",
       "      <td>1</td>\n",
       "      <td>0</td>\n",
       "      <td>1</td>\n",
       "      <td>0</td>\n",
       "      <td>2</td>\n",
       "      <td>1</td>\n",
       "      <td>1</td>\n",
       "      <td>0.200000</td>\n",
       "      <td>0.212122</td>\n",
       "      <td>0.590435</td>\n",
       "      <td>0.160296</td>\n",
       "      <td>108</td>\n",
       "      <td>1454</td>\n",
       "      <td>1562</td>\n",
       "    </tr>\n",
       "    <tr>\n",
       "      <th>4</th>\n",
       "      <td>5</td>\n",
       "      <td>2011-01-05</td>\n",
       "      <td>1</td>\n",
       "      <td>0</td>\n",
       "      <td>1</td>\n",
       "      <td>0</td>\n",
       "      <td>3</td>\n",
       "      <td>1</td>\n",
       "      <td>1</td>\n",
       "      <td>0.226957</td>\n",
       "      <td>0.229270</td>\n",
       "      <td>0.436957</td>\n",
       "      <td>0.186900</td>\n",
       "      <td>82</td>\n",
       "      <td>1518</td>\n",
       "      <td>1600</td>\n",
       "    </tr>\n",
       "  </tbody>\n",
       "</table>\n",
       "</div>"
      ],
      "text/plain": [
       "   instant      dteday  season  yr  mnth  holiday  weekday  workingday  \\\n",
       "0        1  2011-01-01       1   0     1        0        6           0   \n",
       "1        2  2011-01-02       1   0     1        0        0           0   \n",
       "2        3  2011-01-03       1   0     1        0        1           1   \n",
       "3        4  2011-01-04       1   0     1        0        2           1   \n",
       "4        5  2011-01-05       1   0     1        0        3           1   \n",
       "\n",
       "   weathersit      temp     atemp       hum  windspeed  casual  registered  \\\n",
       "0           2  0.344167  0.363625  0.805833   0.160446     331         654   \n",
       "1           2  0.363478  0.353739  0.696087   0.248539     131         670   \n",
       "2           1  0.196364  0.189405  0.437273   0.248309     120        1229   \n",
       "3           1  0.200000  0.212122  0.590435   0.160296     108        1454   \n",
       "4           1  0.226957  0.229270  0.436957   0.186900      82        1518   \n",
       "\n",
       "    cnt  \n",
       "0   985  \n",
       "1   801  \n",
       "2  1349  \n",
       "3  1562  \n",
       "4  1600  "
      ]
     },
     "execution_count": 2,
     "metadata": {},
     "output_type": "execute_result"
    }
   ],
   "source": [
    "df = pd.read_csv('/Users/mohamedalbasuony/Downloads/bike+sharing+dataset/day.csv')\n",
    "df.head()"
   ]
  },
  {
   "cell_type": "markdown",
   "id": "718c50b7-da89-424a-a11c-69b634286836",
   "metadata": {},
   "source": [
    " **Features:**\n",
    "\n",
    "1. We will create dummy variables for categorical features like season, mnth, weekday, and workingday.\n",
    "2. We will also consider creating interaction terms between features to capture potential non-linear relationships."
   ]
  },
  {
   "cell_type": "code",
   "execution_count": 3,
   "id": "410ab884-5181-458d-8fa0-f3dd6c3c2cb0",
   "metadata": {},
   "outputs": [],
   "source": [
    "# Choose the target variable\n",
    "target_variable = 'cnt'\n",
    "\n",
    "# Select features and target variable\n",
    "X = df.drop(columns=['instant', 'dteday', 'cnt'])  # Drop irrelevant columns\n",
    "y = df[target_variable]\n",
    "\n",
    "# Split the data into training and testing sets\n",
    "X_train, X_test, y_train, y_test = train_test_split(X, y, test_size=0.2, random_state=42)"
   ]
  },
  {
   "cell_type": "markdown",
   "id": "4d678524-568b-41ce-9c37-87dba66ba38d",
   "metadata": {},
   "source": [
    "**Model Building and Evaluation**\n",
    "- We will explore three different models:\n",
    "**1. Linear Regression:**"
   ]
  },
  {
   "cell_type": "code",
   "execution_count": 4,
   "id": "f603a04a-ef7f-46cf-9779-a15b18b635c7",
   "metadata": {},
   "outputs": [
    {
     "name": "stdout",
     "output_type": "stream",
     "text": [
      "Mean Squared Error (Linear Regression): 3.605160708504077e-24\n",
      "Mean Squared Error (Linear Regression - Subset): 4.261224404024935e-25\n"
     ]
    }
   ],
   "source": [
    "# Fit the linear regression model\n",
    "lr_model = LinearRegression()\n",
    "lr_model.fit(X_train, y_train)\n",
    "\n",
    "# Predict on the testing set\n",
    "y_pred_test = lr_model.predict(X_test)\n",
    "\n",
    "# Evaluate the model\n",
    "mse_lr = mean_squared_error(y_test, y_pred_test)\n",
    "print(\"Mean Squared Error (Linear Regression):\", mse_lr)\n",
    "\n",
    "# For example, let's try dropping 'holiday' and 'weekday' columns\n",
    "X_train_subset = X_train.drop(columns=['holiday', 'weekday'])\n",
    "X_test_subset = X_test.drop(columns=['holiday', 'weekday'])\n",
    "\n",
    "# Fit the model with the subset of features\n",
    "lr_model_subset = LinearRegression()\n",
    "lr_model_subset.fit(X_train_subset, y_train)\n",
    "\n",
    "# Predict on the testing set\n",
    "y_pred_test_subset = lr_model_subset.predict(X_test_subset)\n",
    "\n",
    "# Evaluate the model with the subset of features\n",
    "mse_lr_subset = mean_squared_error(y_test, y_pred_test_subset)\n",
    "print(\"Mean Squared Error (Linear Regression - Subset):\", mse_lr_subset)"
   ]
  },
  {
   "cell_type": "markdown",
   "id": "9967be9e-61ee-4c26-a2ef-4c7d02b5f749",
   "metadata": {},
   "source": [
    "**Observations:**\n",
    "1. Linear Regression (Full Model)\n",
    "- Pros:\n",
    "- Very low MSE, indicating accurate predictions.\n",
    "- Relatively simple and easy to interpret.\n",
    "- Cons:\n",
    "- May be overfitting the data\n",
    "- Might not capture non-linear relationships between features and the target variable.\n",
    "  \n",
    "2. Linear Regression (Subset Model)\n",
    "- Pros:\n",
    "- Slightly lower MSE than the full model, suggesting improved accuracy.\n",
    "More efficient, as it uses fewer features."
   ]
  },
  {
   "cell_type": "markdown",
   "id": "06f59038-7b52-40d3-8188-74ea1e44261f",
   "metadata": {},
   "source": [
    "**2. Decision Tree Regression:**"
   ]
  },
  {
   "cell_type": "code",
   "execution_count": 5,
   "id": "c8415162-23a8-49e6-b2b9-5469961181ad",
   "metadata": {},
   "outputs": [
    {
     "name": "stdout",
     "output_type": "stream",
     "text": [
      "Mean Squared Error (Decision Tree Regression): 44543.42857142857\n"
     ]
    }
   ],
   "source": [
    "# Fit the decision tree regression model\n",
    "dt_model = DecisionTreeRegressor()\n",
    "dt_model.fit(X_train, y_train)\n",
    "\n",
    "# Predict on the testing set\n",
    "y_pred_test_dt = dt_model.predict(X_test)\n",
    "\n",
    "# Evaluate the model\n",
    "mse_dt = mean_squared_error(y_test, y_pred_test_dt)\n",
    "print(\"Mean Squared Error (Decision Tree Regression):\", mse_dt)"
   ]
  },
  {
   "cell_type": "markdown",
   "id": "e0c6fbe8-c7b7-4fd7-b96e-549c2cc8f125",
   "metadata": {},
   "source": [
    "**Observations:**\n",
    "1. Decision Tree Regression\n",
    "- Pros:\n",
    "- Can handle non-linear relationships between features and the target variable.\n",
    "Relatively robust to outliers.\n",
    "- Cons:\n",
    "- High MSE, indicating poor predictive accuracy and that can be difficult to interpret the model's decision-making process."
   ]
  },
  {
   "cell_type": "markdown",
   "id": "5e4bc05b-07ab-44d0-b211-1a55e37fad54",
   "metadata": {},
   "source": [
    "**3. K-Nearest Neighbors Regression:**"
   ]
  },
  {
   "cell_type": "code",
   "execution_count": 6,
   "id": "d1e49921-e92e-4953-8213-42dce016f688",
   "metadata": {},
   "outputs": [
    {
     "name": "stdout",
     "output_type": "stream",
     "text": [
      "Mean Squared Error (K-Nearest Neighbors Regression): 6252.421224489792\n"
     ]
    }
   ],
   "source": [
    "# Fit the K-nearest neighbors regression model\n",
    "knn_model = KNeighborsRegressor(n_neighbors=5)\n",
    "knn_model.fit(X_train, y_train)\n",
    "\n",
    "# Predict on the testing set\n",
    "y_pred_test_knn = knn_model.predict(X_test)\n",
    "\n",
    "# Evaluate the model\n",
    "mse_knn = mean_squared_error(y_test, y_pred_test_knn)\n",
    "print(\"Mean Squared Error (K-Nearest Neighbors Regression):\", mse_knn)"
   ]
  },
  {
   "cell_type": "markdown",
   "id": "53bf5e88-0867-423c-8add-b1f2d4209951",
   "metadata": {},
   "source": [
    "**Observations:**\n",
    "\n",
    "1. K-Nearest Neighbors Regression\n",
    "- Pros:\n",
    "- Relatively simple and easy to implement.\n",
    "- Can capture complex relationships between features and the target variable.\n",
    "- Cons:\n",
    "- High MSE, indicating poor predictive accuracy, which means it can be sensitive to outliers and noisy data."
   ]
  },
  {
   "cell_type": "code",
   "execution_count": 7,
   "id": "abfc2b31-df39-48c6-9dc2-346ed3ebabe0",
   "metadata": {},
   "outputs": [
    {
     "name": "stdout",
     "output_type": "stream",
     "text": [
      "R-squared (Linear Regression): 1.0\n",
      "R-squared (Linear Regression - Subset): 1.0\n",
      "R-squared (Decision Tree Regression): 0.9888915869929029\n",
      "R-squared (K-Nearest Neighbors Regression): 0.9984407469410533\n"
     ]
    }
   ],
   "source": [
    "from sklearn.metrics import r2_score\n",
    "\n",
    "# Linear Regression (Full Model)\n",
    "y_pred_test_lr = lr_model.predict(X_test)\n",
    "r2_lr = r2_score(y_test, y_pred_test_lr)\n",
    "print(\"R-squared (Linear Regression):\", r2_lr)\n",
    "\n",
    "# Linear Regression (Subset Model)\n",
    "y_pred_test_subset = lr_model_subset.predict(X_test_subset)\n",
    "r2_lr_subset = r2_score(y_test, y_pred_test_subset)\n",
    "print(\"R-squared (Linear Regression - Subset):\", r2_lr_subset)\n",
    "\n",
    "# Decision Tree Regression\n",
    "y_pred_test_dt = dt_model.predict(X_test)\n",
    "r2_dt = r2_score(y_test, y_pred_test_dt)\n",
    "print(\"R-squared (Decision Tree Regression):\", r2_dt)\n",
    "\n",
    "# K-Nearest Neighbors Regression\n",
    "y_pred_test_knn = knn_model.predict(X_test)\n",
    "r2_knn = r2_score(y_test, y_pred_test_knn)\n",
    "print(\"R-squared (K-Nearest Neighbors Regression):\", r2_knn)"
   ]
  },
  {
   "cell_type": "markdown",
   "id": "e24a582b-3b46-404d-82bf-5b73f7ca5555",
   "metadata": {},
   "source": [
    "# Model Comparison and Selection\n"
   ]
  },
  {
   "cell_type": "markdown",
   "id": "8d98f071-6738-4d4d-aff5-7116db797f5e",
   "metadata": {},
   "source": [
    "- Based on the individual model observations, the Linear Regression model with the subset of features appears to be the best choice for predicting bike-sharing demand. It has the lowest MSE, is relatively efficient, and is easier to interpret compared to other models.\n",
    "- And based on the R-squared values, both Linear Regression models (full and subset) appear to be equally well-suited for predicting bike-sharing demand. They have perfect fits to the data, suggesting that they are able to capture all the relevant information and relationships between features and the target variable."
   ]
  },
  {
   "cell_type": "markdown",
   "id": "14829968-306a-4313-8b83-b36647c762e0",
   "metadata": {},
   "source": [
    "**Cross-Validation with Different Metrics**\n",
    "- We can perform cross-validation using different metrics to get a more comprehensive understanding of the models' performance. For example, - we could use:\n",
    "\n",
    "- Mean Absolute Error (MAE): Measures the average absolute difference between the predicted and actual values.\n",
    "- Root Mean Squared Error (RMSE): Measures the square root of the MSE."
   ]
  },
  {
   "cell_type": "code",
   "execution_count": 12,
   "id": "6fc5bc15-21ed-4c47-b08e-94d0f26be522",
   "metadata": {},
   "outputs": [],
   "source": [
    "# Perform cross-validation with MAE\n",
    "mae_lr_full = cross_val_score(lr_model, X, y, cv=10, scoring='neg_mean_absolute_error')\n",
    "mae_lr_subset = cross_val_score(lr_model_subset, X_train_subset, y_train, cv=10, scoring='neg_mean_absolute_error')\n",
    "mae_dt = cross_val_score(dt_model, X, y, cv=10, scoring='neg_mean_absolute_error')\n",
    "mae_knn = cross_val_score(knn_model, X, y, cv=10, scoring='neg_mean_absolute_error')\n",
    "\n",
    "# Perform cross-validation with RMSE\n",
    "rmse_lr_full = cross_val_score(lr_model, X, y, cv=10, scoring='neg_root_mean_squared_error')\n",
    "rmse_lr_subset = cross_val_score(lr_model_subset, X_train_subset, y_train, cv=10, scoring='neg_root_mean_squared_error')\n",
    "rmse_dt = cross_val_score(dt_model, X, y, cv=10, scoring='neg_root_mean_squared_error')\n",
    "rmse_knn = cross_val_score(knn_model, X, y, cv=10, scoring='neg_root_mean_squared_error')"
   ]
  },
  {
   "cell_type": "code",
   "execution_count": 13,
   "id": "3bb46a7a-f3dd-44bb-92b3-c227790e4e58",
   "metadata": {},
   "outputs": [
    {
     "name": "stdout",
     "output_type": "stream",
     "text": [
      "Cross-Validation with MAE:\n",
      "Linear Regression (Full): -1.0122972927634424e-12\n",
      "Linear Regression (Subset): -1.1966835341348874e-12\n",
      "Decision Tree Regression: -164.3325249907442\n",
      "K-Nearest Neighbors Regression: -65.886664198445\n"
     ]
    }
   ],
   "source": [
    "# Print the results\n",
    "print(\"Cross-Validation with MAE:\")\n",
    "print(\"Linear Regression (Full):\", mae_lr_full.mean())\n",
    "print(\"Linear Regression (Subset):\", mae_lr_subset.mean())\n",
    "print(\"Decision Tree Regression:\", mae_dt.mean())\n",
    "print(\"K-Nearest Neighbors Regression:\", mae_knn.mean())"
   ]
  },
  {
   "cell_type": "markdown",
   "id": "9741c918-2388-4a23-90e1-b45ce7b93b11",
   "metadata": {},
   "source": [
    "**Observations:**\n",
    "- Based on the provided cross-validation results, we can make the following observations:\n",
    "- Both Linear Regression models have extremely low MAE values, indicating excellent predictions.\n",
    "- The Decision Tree Regression model has a significantly higher MAE value, suggesting moderate accuracy.\n",
    "- The K-Nearest Neighbors Regression model has an MAE value between the Linear Regression and Decision Tree models, indicating good accuracy."
   ]
  },
  {
   "cell_type": "code",
   "execution_count": 14,
   "id": "a49e5378-15b9-4ba1-bfa1-1ad8659482a0",
   "metadata": {},
   "outputs": [
    {
     "name": "stdout",
     "output_type": "stream",
     "text": [
      "\n",
      "Cross-Validation with RMSE:\n",
      "Linear Regression (Full): -1.2612767787548263e-12\n",
      "Linear Regression (Subset): -1.5374551081732196e-12\n",
      "Decision Tree Regression: -243.69143402362835\n",
      "K-Nearest Neighbors Regression: -94.43533643772369\n"
     ]
    }
   ],
   "source": [
    "print(\"\\nCross-Validation with RMSE:\")\n",
    "print(\"Linear Regression (Full):\", rmse_lr_full.mean())\n",
    "print(\"Linear Regression (Subset):\", rmse_lr_subset.mean())\n",
    "print(\"Decision Tree Regression:\", rmse_dt.mean())\n",
    "print(\"K-Nearest Neighbors Regression:\", rmse_knn.mean())"
   ]
  },
  {
   "cell_type": "markdown",
   "id": "51863691-0cb0-45cd-b943-57ce90f3e6d3",
   "metadata": {},
   "source": [
    "**Observations:**\n",
    "- Similar to the MAE results, both Linear Regression models have extremely low RMSE values, indicating excellent predictions.\n",
    "- The Decision Tree Regression model has a significantly higher RMSE value, suggesting moderate accuracy.\n",
    "- The K-Nearest Neighbors Regression model has an RMSE value between the Linear Regression and Decision Tree models, indicating good accuracy."
   ]
  },
  {
   "cell_type": "code",
   "execution_count": 17,
   "id": "ec0059ee-2e0b-47e6-845e-3b935b3cb8e7",
   "metadata": {},
   "outputs": [
    {
     "data": {
      "image/png": "[encoded data removed]",
      "text/plain": [
       "<Figure size 640x480 with 1 Axes>"
      ]
     },
     "metadata": {},
     "output_type": "display_data"
    }
   ],
   "source": [
    "import matplotlib.pyplot as plt\n",
    "\n",
    "# Plot predictions vs actual values for Linear Regression (Full)\n",
    "plt.scatter(y_test, y_pred_test_lr)\n",
    "plt.xlabel('Actual Values')\n",
    "plt.ylabel('Predicted Values')\n",
    "plt.title('Linear Regression (Full)')\n",
    "plt.show()"
   ]
  },
  {
   "cell_type": "code",
   "execution_count": 18,
   "id": "01738953-a849-4314-9b78-fcc50b84df56",
   "metadata": {},
   "outputs": [
    {
     "data": {
      "image/png": "[encoded data removed]",
      "text/plain": [
       "<Figure size 640x480 with 1 Axes>"
      ]
     },
     "metadata": {},
     "output_type": "display_data"
    }
   ],
   "source": [
    "# Plot predictions vs actual values for Linear Regression (Subset)\n",
    "plt.scatter(y_test, y_pred_test_subset)\n",
    "plt.xlabel('Actual Values')\n",
    "plt.ylabel('Predicted Values')\n",
    "plt.title('Linear Regression (Subset)')\n",
    "plt.show()"
   ]
  }
 ],
 "metadata": {
  "kernelspec": {
   "display_name": "Python 3 (ipykernel)",
   "language": "python",
   "name": "python3"
  },
  "language_info": {
   "codemirror_mode": {
    "name": "ipython",
    "version": 3
   },
   "file_extension": ".py",
   "mimetype": "text/x-python",
   "name": "python",
   "nbconvert_exporter": "python",
   "pygments_lexer": "ipython3",
   "version": "3.11.5"
  }
 },
 "nbformat": 4,
 "nbformat_minor": 5
}
